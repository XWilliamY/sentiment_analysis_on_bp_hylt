{
 "cells": [
  {
   "cell_type": "code",
   "execution_count": 502,
   "metadata": {},
   "outputs": [],
   "source": [
    "import pandas as pd\n",
    "import numpy as np\n",
    "import seaborn as sns\n",
    "import matplotlib.pyplot as plt\n",
    "from collections import Counter, defaultdict\n",
    "from vaderSentiment.vaderSentiment import SentimentIntensityAnalyzer\n",
    "import re\n",
    "import regex\n",
    "import spacy\n",
    "import emoji\n",
    "%matplotlib inline"
   ]
  },
  {
   "cell_type": "code",
   "execution_count": 679,
   "metadata": {
    "scrolled": true
   },
   "outputs": [],
   "source": [
    "blackpink = pd.read_csv('more.csv', lineterminator='\\n')"
   ]
  },
  {
   "cell_type": "code",
   "execution_count": 1370,
   "metadata": {},
   "outputs": [],
   "source": [
    "unique_comments = Counter(blackpink['Comment'])"
   ]
  },
  {
   "cell_type": "code",
   "execution_count": 1372,
   "metadata": {},
   "outputs": [
    {
     "data": {
      "text/plain": [
       "(14703, 10)"
      ]
     },
     "execution_count": 1372,
     "metadata": {},
     "output_type": "execute_result"
    }
   ],
   "source": [
    "blackpink.shape"
   ]
  },
  {
   "cell_type": "code",
   "execution_count": null,
   "metadata": {
    "scrolled": true
   },
   "outputs": [],
   "source": [
    "unique_langs = Counter(blackpink['Expanded Language Name'])\n",
    "truncated_langs = {key: unique_langs[key] for key in unique_langs if (unique_langs[key] > 20 and\n",
    "                                                                     key != 'Emoji' and\n",
    "                                                                     key != 'English')}\n",
    "truncated_langs_pd = pd.DataFrame.from_dict(truncated_langs.items())\n",
    "truncated_langs_pd.columns = [\"Language\", \"Count\"]\n",
    "truncated_langs_pd = truncated_langs_pd.dropna()\n",
    "truncated_langs_pd.sort_values(\"Count\")"
   ]
  },
  {
   "cell_type": "code",
   "execution_count": 682,
   "metadata": {},
   "outputs": [
    {
     "data": {
      "text/plain": [
       "<matplotlib.axes._subplots.AxesSubplot at 0x13023ed90>"
      ]
     },
     "execution_count": 682,
     "metadata": {},
     "output_type": "execute_result"
    },
    {
     "data": {
      "image/png": "[encoded data removed]",
      "text/plain": [
       "<Figure size 1152x1152 with 1 Axes>"
      ]
     },
     "metadata": {
      "needs_background": "light"
     },
     "output_type": "display_data"
    }
   ],
   "source": [
    "plt.figure(figsize=(16, 16))\n",
    "sns.barplot(y=\"Language\", x=\"Count\", data=truncated_langs_pd.sort_values(\"Count\", ascending=False))\n",
    "\n"
   ]
  },
  {
   "cell_type": "markdown",
   "metadata": {},
   "source": [
    "# Now let's do some sentiment analysis of the four members\n",
    "\n",
    "We'll be using VADER Sentiment for this task. First, let's separate our comments to ones that contain only one of each member. What I have is a little long, so if you have any suggestions, please bring them up!"
   ]
  },
  {
   "cell_type": "code",
   "execution_count": 1351,
   "metadata": {},
   "outputs": [],
   "source": [
    "only_jennie = blackpink['Comment'].str.contains(\"jennie|제니\", case=False) & \\\n",
    "~blackpink['Comment'].str.contains(\"rosé|rose|lisa|jisoo|로제|지수|리사\", case=False)\n",
    "\n",
    "only_jisoo = blackpink['Comment'].str.contains(\"jisoo|지수\", case=False) & \\\n",
    "~blackpink['Comment'].str.contains(\"rosé|rose|lisa|jennie|로제|제니|리사\", case=False)\n",
    "\n",
    "only_rose = blackpink['Comment'].str.contains(\"rose|로제\", case=False) & \\\n",
    "~blackpink['Comment'].str.contains(\"jennie|lisa|jisoo|지수|제니|리사\", case=False)\n",
    "\n",
    "only_lisa = blackpink['Comment'].str.contains(\"lisa|리사\", case=False) & \\\n",
    "~blackpink['Comment'].str.contains(\"rosé|rose|jennie|jisoo|지수|제니|로제\", case=False)\n"
   ]
  },
  {
   "cell_type": "code",
   "execution_count": 1352,
   "metadata": {},
   "outputs": [
    {
     "name": "stdout",
     "output_type": "stream",
     "text": [
      "(257, 10) (258, 10) (126, 10) (551, 10) (14703, 10)\n"
     ]
    }
   ],
   "source": [
    "print(blackpink[only_jennie].shape, \n",
    "      blackpink[only_jisoo].shape, \n",
    "      blackpink[only_rose].shape, \n",
    "      blackpink[only_lisa].shape, \n",
    "      blackpink.shape)"
   ]
  },
  {
   "cell_type": "markdown",
   "metadata": {},
   "source": [
    "Jennie and Jisoo are almost tied in the comments that relate to only them. Lisa has the most comments, and Rose has the least comments about her. It would be interesting to see the distribution of sentiment about each of them, and what topics are relevant to each person. \n",
    "\n",
    "Let's find the comments that are originally in English. After working through this, we can then select other languages and apply the same analysis."
   ]
  },
  {
   "cell_type": "code",
   "execution_count": 1353,
   "metadata": {},
   "outputs": [],
   "source": [
    "def get_results_of_comparison(target_value, source_column, target_column, dataset):\n",
    "    # create a boolean mask\n",
    "    mask = dataset[source_column].values == target_value\n",
    "    pos = np.flatnonzero(mask) # get idx\n",
    "    return mask, pos, dataset[mask][target_column]\n"
   ]
  },
  {
   "cell_type": "code",
   "execution_count": 1354,
   "metadata": {},
   "outputs": [],
   "source": [
    "mask, pos, jennie_english = get_results_of_comparison(\"English\", \"Expanded Language Name\",\n",
    "                                                     \"Comment\", blackpink[only_jennie])\n",
    "mask, pos, jisoo_english = get_results_of_comparison(\"English\", \"Expanded Language Name\",\n",
    "                                                     \"Comment\", blackpink[only_jisoo])\n",
    "\n",
    "mask, pos, rose_english = get_results_of_comparison(\"English\", \"Expanded Language Name\",\n",
    "                                                     \"Comment\", blackpink[only_rose])\n",
    "\n",
    "mask, pos, lisa_english = get_results_of_comparison(\"English\", \"Expanded Language Name\",\n",
    "                                                     \"Comment\", blackpink[only_lisa])"
   ]
  },
  {
   "cell_type": "code",
   "execution_count": 1355,
   "metadata": {},
   "outputs": [
    {
     "name": "stdout",
     "output_type": "stream",
     "text": [
      "207 133 105 375\n",
      "percentage of english comments for Jennie: 0.8054474708171206\n",
      "percentage of english comments for Jisoo: 0.5155038759689923\n",
      "percentage of english comments for Rose: 0.8333333333333334\n",
      "percentage of english comments for Lisa: 0.6805807622504537\n"
     ]
    }
   ],
   "source": [
    "print(len(jennie_english),\n",
    "      len(jisoo_english),\n",
    "      len(rose_english), \n",
    "      len(lisa_english) )  \n",
    "\n",
    "print(\"percentage of english comments for Jennie:\", len(jennie_english) / len(blackpink[only_jennie]))\n",
    "print(\"percentage of english comments for Jisoo:\", len(jisoo_english)  / len(blackpink[only_jisoo]))\n",
    "print(\"percentage of english comments for Rose:\", len(rose_english)   / len(blackpink[only_rose]))\n",
    "print(\"percentage of english comments for Lisa:\", len(lisa_english)   / len(blackpink[only_lisa]))"
   ]
  },
  {
   "cell_type": "markdown",
   "metadata": {},
   "source": [
    "Could it be that Jennie and Rose are more popular among English speakers?\n"
   ]
  },
  {
   "cell_type": "code",
   "execution_count": 1356,
   "metadata": {},
   "outputs": [],
   "source": [
    "analyzer = SentimentIntensityAnalyzer()"
   ]
  },
  {
   "cell_type": "markdown",
   "metadata": {},
   "source": [
    "# Text Preprocessing"
   ]
  },
  {
   "cell_type": "code",
   "execution_count": 1357,
   "metadata": {},
   "outputs": [],
   "source": [
    "def strip_symbols(text):\n",
    "    words = text.split()\n",
    "    \n",
    "    # https://stackoverflow.com/questions/58833864/python-regex-removing-all-special-characters-and-numbers-not-attached-to-words\n",
    "    return ' '.join(re.findall(r'(?:[^\\W\\d_]+\\d|\\d+[^\\W\\d_])[^\\W_]*|[^\\W\\d_]+', text))"
   ]
  },
  {
   "cell_type": "code",
   "execution_count": 1358,
   "metadata": {},
   "outputs": [],
   "source": [
    "def keep_emojis_strip_symbols(text):\n",
    "    stripped = []\n",
    "    \n",
    "    text_to_words = text.split()\n",
    "    for word in text_to_words:\n",
    "        data = regex.findall(r'\\X', word)\n",
    "        has_emoji = False\n",
    "        the_emoji = []\n",
    "        for char_combo in data:\n",
    "            if any(char in emoji.UNICODE_EMOJI for char in char_combo):\n",
    "                has_emoji = True\n",
    "                break\n",
    "            else:\n",
    "                continue\n",
    "                \n",
    "        # after analyzing the characters of a word\n",
    "        if has_emoji:\n",
    "            stripped.append(''.join(word))\n",
    "        else:\n",
    "            stripped.append(strip_symbols(word))\n",
    "    return ''.join(stripped)"
   ]
  },
  {
   "cell_type": "code",
   "execution_count": 1359,
   "metadata": {},
   "outputs": [
    {
     "name": "stdout",
     "output_type": "stream",
     "text": [
      "Omg IloveJennie shairinthissomuch\n"
     ]
    }
   ],
   "source": [
    "print(keep_emojis_strip_symbols(\"Omg,I love Jennie's hair in this so much\"))"
   ]
  },
  {
   "cell_type": "code",
   "execution_count": 1360,
   "metadata": {},
   "outputs": [
    {
     "name": "stdout",
     "output_type": "stream",
     "text": [
      "207\n"
     ]
    }
   ],
   "source": [
    "cleaned_jennie_english = []\n",
    "\n",
    "def clean_comments(document):\n",
    "    cleaned = []\n",
    "    for comment in nlp.pipe(document, disable=['parser']):\n",
    "        sentence = [keep_emojis_strip_symbols(word.lemma_) \\\n",
    "                    if word.lemma_ != '-PRON-' else word.text \\\n",
    "                    for word in comment]\n",
    "        cleaned.append(' '.join(sentence))\n",
    "    return cleaned\n",
    "\n",
    "\n",
    "cleaned_jennie_english = clean_comments(jennie_english)\n",
    "cleaned_jennie_sentiment = [analyzer.polarity_scores(doc)['compound'] for doc in cleaned_jennie_english]\n",
    "print(len(cleaned_jennie_english))\n",
    "      \n",
    "      "
   ]
  },
  {
   "cell_type": "code",
   "execution_count": 1361,
   "metadata": {},
   "outputs": [],
   "source": [
    "# Manual review of sentiments post- and pre-processing\n",
    "def compare_diffs(cleaned_comments, orig_comments, cleaned_sent, orig_sent, indices):\n",
    "    agree = 0\n",
    "    disagree = 0\n",
    "    for i in indices:\n",
    "        print(cleaned_sent[i], \":\", orig_sent[i])\n",
    "        print(cleaned_comments[i])\n",
    "        print(orig_comments[i])\n",
    "        print()\n",
    "        if cleaned_sent[i] != orig_sent[i]:\n",
    "            disagree += 1\n",
    "        else:\n",
    "            agree += 1\n",
    "    print(agree, disagree)\n",
    "    "
   ]
  },
  {
   "cell_type": "code",
   "execution_count": 1362,
   "metadata": {},
   "outputs": [
    {
     "name": "stdout",
     "output_type": "stream",
     "text": [
      "-0.8317 : 0.4184\n",
      " no one love JENNIE  JENNIE SUCKS  \n",
      "*NO ONE LOVES JENNIE! JENNIE SUCKS!*\n",
      "\n",
      "0 1\n"
     ]
    }
   ],
   "source": [
    "# success/ why cleaning is important\n",
    "success = [1]\n",
    "compare_diffs(cleaned_jennie_english, jennie_english.tolist(), \n",
    "              cleaned_jennie_sentiment, jennie_sentiment, success)"
   ]
  },
  {
   "cell_type": "code",
   "execution_count": 1363,
   "metadata": {},
   "outputs": [
    {
     "name": "stdout",
     "output_type": "stream",
     "text": [
      "0.4404 : 0.6369\n",
      "Jennie be the good\n",
      "Jennie is the Best\n",
      "\n",
      "0 1\n"
     ]
    }
   ],
   "source": [
    "# sometimes cleaning introduces its own difficulties\n",
    "difficulties = [91]\n",
    "compare_diffs(cleaned_jennie_english, jennie_english.tolist(), \n",
    "              cleaned_jennie_sentiment, jennie_sentiment, difficulties)\n",
    "# inconsistencies: 96, 127, 124, 135"
   ]
  },
  {
   "cell_type": "markdown",
   "metadata": {},
   "source": [
    "The above is probably because of the word \"best\" changing to just \"good\".\n",
    "\n",
    "## Understanding Compound Score\n",
    "Positive sentiment generally is understood as having a compound score >= 0.05\n",
    "Neutral is between -0.05 and 0.05\n",
    "And negative is less than or equal to -0.05"
   ]
  },
  {
   "cell_type": "code",
   "execution_count": 1364,
   "metadata": {
    "scrolled": true
   },
   "outputs": [
    {
     "data": {
      "text/plain": [
       "<matplotlib.axes._subplots.AxesSubplot at 0x141010f10>"
      ]
     },
     "execution_count": 1364,
     "metadata": {},
     "output_type": "execute_result"
    },
    {
     "data": {
      "image/png": "[encoded data removed]",
      "text/plain": [
       "<Figure size 576x288 with 1 Axes>"
      ]
     },
     "metadata": {
      "needs_background": "light"
     },
     "output_type": "display_data"
    }
   ],
   "source": [
    "plt.figure(figsize=(8, 4))\n",
    "sns.distplot(cleaned_jennie_sentiment, rug=True, kde=False)\n"
   ]
  },
  {
   "cell_type": "markdown",
   "metadata": {},
   "source": [
    "Let's create cleaned comments and ensuing sentiments for the rest of the members"
   ]
  },
  {
   "cell_type": "code",
   "execution_count": 1365,
   "metadata": {},
   "outputs": [],
   "source": [
    "cleaned_jisoo_english = clean_comments(jisoo_english)\n",
    "cleaned_jisoo_sentiment = [analyzer.polarity_scores(doc)['compound'] for doc in cleaned_jisoo_english]\n",
    "\n",
    "cleaned_rose_english = clean_comments(rose_english)\n",
    "cleaned_rose_sentiment = [analyzer.polarity_scores(comment)['compound'] for comment in cleaned_rose_english]\n",
    "\n",
    "cleaned_lisa_english = clean_comments(lisa_english)\n",
    "cleaned_lisa_sentiment = [analyzer.polarity_scores(comment)['compound'] for comment in cleaned_lisa_english]"
   ]
  },
  {
   "cell_type": "code",
   "execution_count": 1366,
   "metadata": {},
   "outputs": [
    {
     "data": {
      "text/plain": [
       "[Text(0.5, 0, 'Lisa')]"
      ]
     },
     "execution_count": 1366,
     "metadata": {},
     "output_type": "execute_result"
    },
    {
     "data": {
      "image/png": "[encoded data removed]",
      "text/plain": [
       "<Figure size 1152x360 with 4 Axes>"
      ]
     },
     "metadata": {
      "needs_background": "light"
     },
     "output_type": "display_data"
    }
   ],
   "source": [
    "f, axes = plt.subplots(1, 4, figsize=(16, 5), sharex=True, sharey=True)\n",
    "sns.distplot(cleaned_jennie_sentiment , color=\"skyblue\", ax=axes[0])\n",
    "sns.distplot(cleaned_jisoo_sentiment, color=\"olive\", ax=axes[1])\n",
    "sns.distplot(cleaned_rose_sentiment , color=\"gold\", ax=axes[2])\n",
    "sns.distplot(cleaned_lisa_sentiment , color=\"teal\", ax=axes[3])\n",
    "\n",
    "axes[0].set(xlabel='Jennie')\n",
    "axes[1].set(xlabel='Jisoo')\n",
    "axes[2].set(xlabel='Rose')\n",
    "axes[3].set(xlabel='Lisa')\n"
   ]
  },
  {
   "cell_type": "markdown",
   "metadata": {},
   "source": [
    "We can see some interesting things from the histograms. Most of the members have relatively greater amounts of neutral comments than positive comments, and more positive comments than negative comments. This is interesting, because generally you'd expect YouTube comments on a music video to either be positive or negative. We can take a closer look at the neutral comments and see for ourselves whether the classifications make sense.\n",
    "\n",
    "Jisoo has the closest proportion of neutral to positive comments, while other members see a more skewed ratio. It seems like Rose has mostly neutral or very positive comments, and that Lisa has more negative comments than the other members."
   ]
  },
  {
   "cell_type": "code",
   "execution_count": 1368,
   "metadata": {},
   "outputs": [
    {
     "name": "stdout",
     "output_type": "stream",
     "text": [
      "0.2263 Jenlisa:Look you now look at me\n",
      "Me:okay i get it\n",
      "0.0 Lisa🤢🤢🤢🤢\n",
      "0.1901 Lisa is literally Cleopatra here. \n",
      "Background around her, hawk, hair..  \n",
      "She looks like Cleopatra but she is still a tai princess.\n",
      "0.0 Lisa\n",
      "0.0 QUEEN LISA\n",
      "0.0 Lisa\n",
      "0.0 I can't get enough of Lisa's parts\n",
      "0.5719 Reason behind this video success:\n",
      "\n",
      "Spot Lord *Ganesha Ji* at 1:20 at the left bottom beside Lisa.\n",
      "\n",
      "Jai Sanatan Dharma\n",
      "0.4019 Lets support lalisa download BRAWL STARS\n",
      "0.6369 I love Lisa's hair colors\n",
      "0.0 It's not a Blackpink song without Lisa's iconic: BLACKPINK IN YOUR AREA.\n",
      "0.0 Lisaaaaaaaaaaaaaaaaaaaaaaaaaaaaaaaaaaaaaaaaaaaaaaaaaaaaaaaaaaaaaaaaaaaaaaaaaaaaaaaaaaaaaaaaaaaaaaaaaaaaaaaaaaaaaaaaaaaaaaaaaaaaaaaaaaaaaaaaaaaaaaaaaaaaaaaaaaaaaaaaaaaaaaaaaaaaaaaaaaaaaaaaaaaaaaaaaaaaaaaaaaaaaaaaaaaaaaaaaaaaaaaaaaaaaaaaaaaaaaaaaaaaaaaaaaaaaaaa\n",
      "0.0 Lisa is Cardi B .\n",
      "0.0 TEAM LISAAAAA! #lookatchuuuunowlookatme\n",
      "-0.6597 Lisa's raper\n",
      "0.7068 Lisas rap and backing tune for it sounds so similar....like similar to daechwita a bit, it so cool\n",
      "0.0 1:20 did anyone noticed Lord Ganesha's statue near Lisa\n",
      "0.5267 Blackpink Queens of Support... Lisa❤ streamed Not by the moon by Got7...wasn't bad actually.\n",
      "\n",
      "#blinksZA🇿🇦\n",
      "-0.296 lalisa manoban i’m look at myself and look at you.. i have no words.\n",
      "0.6369 We love you LISA\n",
      "0.0 Lisa snapped\n",
      "0.0 Dun dun dun dun ‘LALİSA ‘\n",
      "-0.0803 No:\n",
      "LITREALLY no one:\n",
      "Lisa: blackpink in your area\n",
      "0.791 😂😂😂😂Lisa so Ugly\n",
      "0.0 #lisa\n",
      "0.9996 I love you lisa 😭😭😭😭😭💖💖💖💖💖💖💖💖💖💖💖💖💖💖💖💖💖💖💖💖💖💖💖💖💖💖💖💖💖💖💖\n",
      "0.6369 We love you Lisa! Its your time to shine.\n",
      "0.0 Lisaaaaa mucuk\n",
      "0.4588 LISA😍\n",
      "-0.8957 The visuals,vocals,dancers and the rapers is everything they killing it.\n",
      "And I also liked that Lisa rape part-Look at you now look at me.\n",
      "Blackpink- Okey, Then tell me How You like that.\n",
      "-0.6465 No one:\n",
      "\n",
      "Seriously no one:\n",
      "\n",
      "Lisa : Shooting at me ♡\n",
      "0.0 LISAAAAA\n",
      "0.9682 Lisa so fine and swag! 💕💕💕😍😍\n",
      "0.0 Lisa\n",
      "0.2263 AM I only miss Lisa’s smiles in Clips\n",
      "0.0 Lisa\n",
      "0.9821 To all the Hindu BLINKs:\n",
      "I know some of you might find it disrespectful that they put lord Ganesh on the floor, (1:20) but here are some things I would like to say:\n",
      "\n",
      "1) you cannot completely see if it is on the floor. My mother worships lord Ganesha but since we have a small place to set up the statues we have to keep the statue on a small stool . But we mean no disrespect. The same thing could happen in the MV.\n",
      "\n",
      "2) if you believe in God then you should know that God doesn't exist in things like statues. The statue was made out of iron/ clay / wood. But do you think God will live in wood, clay,iron ? No. You should believe that God is always by your side.\n",
      "\n",
      "3) some people don't believe in God. You might say that even if they don't they should respect those who believe in God. I disagree because you are not respecting their point of view . I myself am an atheist but I don't go around telling everyone that don't believe in God.\n",
      "\n",
      "4) I'm sure they meant no disrespect. Once they receive the message they'll apologize.\n",
      "\n",
      "5) please don't hate the girls for this. I'm sure they didn't set up the set. The production manager or whatever did it. So, it is not BLACKPINK's fault.\n",
      "\n",
      "EDIT: I watched it in super slo mo and the statue was placed in front of some kind of stall . So the scene might have represented Lisa in a shop. I live in India and many people sell statues on the roadside and they keep it on the ground. This happens every day but no one cares but it happens in an MV for a split second everyone is like sue YG entertainment blah blah blah...\n",
      "0.0 Lisa\n",
      "-0.4215 *Lisa to haters* : 2:33\n",
      "0.81 LISA'S SHOULDER SWEEP IS ONE OF MY FAV! NEVER FAILED TO MAKE ME SMILE!\n",
      "0.9719 Lisa's rap😻😻😻😻😻😻😻😻\n",
      "0.9001 Lisa😍😍😍😍\n",
      "0.0 Lisa\n",
      "0.0 lisa in that fur jacket is everything she slay\n",
      "0.9571 blackpihk lisa love ❤❤❤\n",
      "-0.6908 Lisa killing me.\n",
      "0.9674 I love you lisaaaaaa 🤠😊😋☺🤗🙃😮😍🤩😘\n",
      "0.0 Lisa 👑👑👑\n",
      "0.9432 I LOVE lisa 💗💗\n",
      "-0.25 BRUHHHHHH LISA BE HITITING DIFFERENT 😭😭❤\n",
      "0.6369 I love you lisa\n",
      "0.6369 Love Lisa\n",
      "0.5423 Lisa🔥💗\n",
      "-0.34 Lisa is on fire.\n",
      "0.0 OMG suka banget pas LISA nyanyi bagian \"Look at you now look at me\"\n",
      "0.4005 I really love Chaesoo vocals on the bridge part ugh. When are we getting rapline Jenlisa tho 🤧\n",
      "0.0 LISA\n",
      "0.0 Lisa's pink hair such a wholesome\n",
      "0.0 Lisa don’t look ate me! Look at her\n",
      "0.0 lisa\n",
      "0.0 is it just me or is Lisa cleopatra during her rap\n",
      "0.0 Lisa pink wig\n",
      "0.0 LISA  prefect\n",
      "0.0 Am I only one who find Lisa's Rap so seductive and Hot as an Indian Blink since 2016?\n",
      "0.6369 1.57 I LOVE LİSA'S SMİLE SO MUCH <3\n",
      "-0.2183 1:13 man Lisa rips this Arabic beat to shreds, so hard\n",
      "0.8074 We are proud of you.\n",
      "  Lisa  ♥️\n",
      "0.4215 Lalisa Manoban! Queen! Keep slaying in all aspects! Rap, Dance, Professionalism, Raw Talent and skills and all! Queen things!\n",
      "-0.34 The ganesha case is just rising..\n",
      "Why hate on bp?\n",
      "Many people are hating on Lisa and Bp😒😒\n",
      "\n",
      "I luv this song🤩😍🤩😍🤩\n",
      "0.7752 Why there's a lot of stupid person who dislike this 😡 they doesn't deserve any hate they put a lot of time and efforts for this or they just can't accept the truth that BP is better than someone they admire lol😂 \n",
      "\n",
      "By the way Lisaaaaaaaa😍\n",
      "Why so hottttt baby 😳\n",
      "0.0 1:22 is Lisa Jasmine??\n",
      "0.7096 God lisa with short black hair is amazing!\n",
      "0.0 Lisa is queen👑👑👑👑👑👑\n",
      "0.6948 Lisa. you're so perfect👏👏\n",
      "0.9468 I LOVE YOU LISA😘💜💛\n",
      "0.9086 Even i'm Light and Ujung i want to say this mv is really beautiful and the dance is so good same goes to the song it's really best. Lisa is in short hair or long hair?\n",
      "0.6369 I love you lisa\n",
      "0.0 Lisa cosplay Cleopatra wkwkwkw\n",
      "0.9378 Wowwww... Lisaaa omg perfect .. New normal black pink edition. . So deferent woah 😍😍😍 my 4 girls like black pink also\n",
      "0.3612 Am I the only one that thinks Lisa looks like  an egyptian because of her hair?\n",
      "0.0 Lisa's \"blackpink in your area\" will forever be iconic!!\n",
      "0.0 Cause Lisa is a queen\n",
      "-0.296 Lisa is no longer a baby\n",
      "0.5942 Lisa’s part was very disrespectful. It disrespected a religion by putting lord Ganesha on the floor showing that Lisa is higher. This was very disappointing and disrespectful. YG needs to improve.\n",
      "\n",
      "Disclaimer: THIS IS NOT LISA OR THE GIRLS FAULT. IT IS YG’s. I AM NOT GIVING HATE TOWARDS THE GIRLS IT IS CLEARLY NOT THEIR FAULT SO DONT SEND HATE TOWARDS THEM.\n",
      "0.659 Lisa so great!\n",
      "0.4019 Cleopatra will definitely bow to Lisa\n",
      "0.34 Lisa is queen of swag & badass\n",
      "0.0 Lisa is hitting different...\n",
      "-0.2732 lisa this my biased and the you?\n",
      "0.802 lisa's teeth at 1:03 1:04.....haha love her\n",
      "0.9945 This song, omg...... The dance is perfect, the style is perfect, the girls are perfect, the M/V is perfect, SHE are perfect! 💗🖤\n",
      "I love you BP ❤️\n",
      ".\n",
      ".\n",
      ".\n",
      ".\n",
      "⬇️Who miss Lisa : here ↙️❤️💗🖤\n",
      "0.4588 Lisa's legendary bangs just moved ..\n",
      "its not attached to her forehead anymore ..haha\n",
      "-0.7238 0:57 I keep repeating this part because  Lisa is so freaking pretty and her gold(or something) teeth(1:03).....👍🏻👍🏻😱\n",
      "0.1754 Lisa 2016:Look at me Look at me now\n",
      "Lisa 2020:Look at you now look at me\n",
      "\n",
      "edit:lol since I didn't get any like you wouldn't see it\n",
      "0.9552 I like it 💗\n",
      "Love you lalisa manoban 💗\n",
      "0.3182 LISA STEP ON ME PLEASE\n",
      "0.802 I love lisa😍\n",
      "0.6369 Love  lisa\n",
      "-0.6908 Lisa killed thissss\n",
      "0.3804 Lisa so cool.\n",
      "-0.9571 Somebody notices the ganesh statue in near of the lisa in the mv iam realy sad of that 😞😞😞😞😠\n",
      "0.998 Lisa is so beautiful omg😮😮😮😮😮😮😮😮😮😮 I love blackpink💕💕💕💕💕💕💝💝💝💝💝💗💗💗💞💞\n",
      "0.3612 1:12 LISA BE SPITTING WHILE LOOKIN' LIKE CLEOPATRA\n",
      "0.3612 can we talk about how lisa slay in this mv? Like omyghad Ilove her so much\n",
      "0.6369 I love lisa\n",
      "0.0 Why Lord Ganesha of India was kept on the ground at the time of Lisa's rap 🧐🧐🙄🙄\n",
      "-0.3818 1:12 is the donkey was shocked because of Lisa? ahahaha\n",
      "0.0 wwwwwwwwwwwwwwwwwwwwwwwwwwwwwwwwwwwwwwwwwwwwwwwwwwwwwwwwwwwwwwwwwwwwwwwwwwwwwwwwwwwwwwwwwwwwwwwwwwwwwwwwwwwwwooooooooooooooooooooooooooooooooooooooooooooooooooooooooooooooooooooooooooooooooooooooooooooooooooooooooooooooooooooooooooooooooooooooooooooooooooooooowwwwwwwwwwwwwwwwwwwwwwwwwwwwwwwwwwwwwwwwwwwwwwwwwwwwwwwwwwwwwwwwwwwwwwwwwwwwwwwwwwwwwwwwwwwwwwwwwwwwwwwwwwwwwwwwwwwwwwwwwwwwwwwwwwwwwwww  lisa\n",
      "0.3612 I like Lisa\n",
      "0.7987 geez jenny and lisa  look so strong even my eye and my speaker cannot handle this song, need to buy new one, better one\n",
      "-0.3841 Damn Lisa is once again why she is the best rapper .Her expression is on point .The only disappointing is dance. The choreography is so repetitive and underwhelming \n",
      ".It's not good to see main dancer not in the center . But anyway her rap slapped.\n",
      "0.4572 lisa rapline So cool\n",
      "0.0 Lisa always get my all attention...\n",
      "0.6682 so hot love you lisa lisa\n",
      "0.81 LISA'S SHOULDER SWEEP IS ONE OF MY FAV! NEVER FAILED TO MAKE ME SMILE!\n",
      "0.9719 Lisa's rap😻😻😻😻😻😻😻😻\n",
      "0.3612 OH LALALALISA CLEOPATRA MANOBAN\n",
      "HOW YOU LIKE THAT?!!!\n",
      "0.6369 Do you love Lisa ?\n",
      "0.0 Lisa's rap is on another level\n",
      "Absolute queen👑👑\n",
      "0.0 Look at you now look at me - lisa, 2020\n",
      "0.0 Lisa mentioned plain jane!!  Omg Nicki Minaj and Blackpink is coming\n",
      "-0.4847 Lisa's hair is not beautiful\n",
      "0.6597 Lisa and lose the best of me love\n",
      "0.0 Lisa Lisa Lisa  T_T\n",
      "0.0 Lisa so beautyful\n",
      "0.3182 Lisa!!! Dammmmm cool\n",
      "0.9437 This is actually the MOST CHILLEST SONG of BlackPink in my Opinion....  Lisa's rap in HYLT  is My most favorite rap of her after her rap in Whistle :) I cant stop listening to it!!!! and the part \"Look up in the sky it's a bird it's a plane\" is UNEXPECTED  lol I rewatched it again so I can hear if they really said it hahaha .... anyway I love this !!! They slayed it waiting for their next Single!!!\n",
      "0.3612 Lisa like a Cleopatra...\n",
      "0.7717 OMG!! I like to lisaa..\n",
      "I love you lisa>_< ♡♡♡\n",
      "0.8176 Lisa, I will always follow the work and encourage you always.❤🇹🇭\n",
      "-0.6124 racist lisa\n",
      "0.4201 I really like Lisa’s hair\n",
      "0.0 LALISA CLEOPATRA RAPPER GODDESS MANOBAN\n",
      "0.3612 I like Lisa's rap part and the pre-chorus the most\n",
      "0.0 Rapper Lisa is slaying\n",
      "0.5777 Rap lisa so good <3\n",
      "0.9719 Lisa's rap part is killing mee😂😂😍😘😗😙😚😇\n",
      "0.9951 I love lisa so cool awwwww😍❤️❤️❤️❤️❤️❤️❤️❤️❤️❤️ binks\n",
      "0.3612 Lisa, like this\n",
      "0.0 QUEEN LISA👑\n",
      "0.2732 Lisa Manoban nailed it!!! 😭♥️\n",
      "-0.6908 Lisa's Part killed it!!!!!!!!!  I'm InLove!\n",
      "0.8834 Llalalala lisa. My barbie 🥰😍\n",
      "0.8402 Lisa with the bangs 😍😍😍\n",
      "0.9485 My LALISA❤️❤️❤️ swag😎\n",
      "0.7579 Lisa hair is like Dua Lipa 😅😅\n",
      "0.3612 lisa is like the korean version of cardi B.\n",
      "0.3612 So nobody's gonna say something about lisa's rap part, that sounds like XXXTENTATION - Look At Me\n",
      "-0.4215 IS LISA'S A MOCK FOR INDIANS 😡😡😡😡😡😡😡😡😡😡😡😡😡😡😡😡😡😡😡😡😡😡😡😡😡😡\n",
      "0.9878 I love you LİSA l love you so much 🥰🥰🥰\n",
      "0.9779 love jenlisa char\n",
      "ilove you BLACKPINK 💓💓💓\n",
      "0.6249 *BLACKPINK LISA FANBOYS  PROMOTING HOW YOU LIKE THAT ON CHINA*\n",
      "0.6369 i love u Lisa👸🏻👸🏻👸🏻👸🏻\n",
      "0.0 It's LISA'S ERA!!!!\n",
      "0.963 Oh she is very beautiful Lisa, she looks so cool. I love you. At the end, Jenny looked as cute as a high school student. I love Black pink\n",
      "0.0 Hahahahah saw fuzz from Lisa’s jacket pop up\n",
      "0.6369 Love short hair Lisa\n",
      "0.2732 Oh my god LISA\n",
      "0.4588 my favorite lisa♡\n",
      "0.3612 lisa: blackpink in your area \n",
      "i like\n",
      "0.0 WAITING FOR LISA'S FANCAM...!!!\n",
      "0.0 Blackpink <3\n",
      "Lisa <3\n",
      "0.8807 I love u lisaaaa😍😍\n",
      "-0.6908 Lisa is killing it!!! 💥💓\n",
      "0.0 PİNK HAİR LISAAA WAAOOWWWW\n",
      "0.4572 LISA YOU ARE SO COOL\n",
      "0.6369 Lisa lisa lisa lisa love u\n",
      "0.3612 Have listened to this tons of times already but l'm still obsessing over lisa's badabingbadaboomboomboom :'))))\n",
      "0.6369 Lisa blackpink ❤️\n",
      "0.6369 I love you are not much Lisa\n",
      "0.1531 SLAP ME WITH THAT JACKET LISA I BEG YOU\n",
      "0.7537 just an arianator returning the favor bc of the support the blinks gave to “rain on me” ! \n",
      "\n",
      "damn this is so good ! lisa’s rap ! snapped ! the looks ! GO 👏🏻OFF. 👏🏻well done blackpink ! 🤍\n",
      "0.0 Lisa's legendary line- \"BLACKPINK IN YOUR AREA\"!\n",
      "0.802 I love lisa in this mv 😍🤴\n",
      "-0.1027 Lisa is swagging sooooooo hard 🌟🌟🌟\n",
      "0.3612 Am I the only person that think that Lisa looks like Snow-white at 1:23 with the apple?\n",
      "0.1002 Don't like me, then tell me how you like that?-LISA\n",
      "0.0 OMG LISA IS QUEEN！！！！！\n",
      "0.3612 Lisa's rap is such refreshing, like I've never seen this style in kpop.\n",
      "0.6369 I love you Lisa\n",
      "0.6369 Lisa i love u\n",
      "0.6369 I love lisa\n",
      "0.0 Lisa floww\n",
      "0.6369 0:44 Lisa: Pulling-Them-Off!\n",
      "The \"how I met your mother\" boots! I love her <3\n",
      "0.4303 This is my honest opinion, don't get mad. Aight, tbh the chorus and the beat is good but the vibe doesn't really feel good but Lisa's rap is cool and the lyrics is too simple? Idk but this is just an opinion tho\n",
      "-0.34 Cleolisa🔥\n",
      "0.0 Lisa pink hair at the end, ooh get it!\n",
      "0.802 Who's love Lisa??😍\n",
      "0.7816 Incase anyone hasn't noticed, the scene of Lisa in the market has a sculpture of Ganesha on the floor. South Asian's are very disappointed with that cause Ganesha is a God and the sculpture is used as an aesthetic and is on the floor while Lisa is on the throne. We mean no hate towrds Blackpink but please help us in reporting this to YG by using the mail template : https://drive.google.com/file/d/1yOdIIcfAUt25n2EWKVLYlY1XkojPO9ez/view\n",
      "0.3182 Wowww..I didn't expect that Lisa ever had a taste with one of the Indonesian artists. please check the video on my channel\n",
      "-0.6908 LISA YOU ARE KILLING MEE AHHH\n",
      "0.7649 Hello. Sorry to rain on your parade, but I find it way too disrespectful and offensive that the statue of a major Hindu deity (Ganesha) has been used as a decorative prop in this video (1:20). Religion, culture, people’s faith- you name it, are not something you trifle with or treat in a mock-casual way. The statue’s also sat on the ground, which is proscribed in Hinduism. It holds significance to many people out there, yet it’s been ignorantly used for “‘aesthetic purposes”’ here. This is quite literally sacrilege. They must address this, really fathom as to why this is such a major issue and then duly apologise. Personally, it’s a let-down that this is what they package for the world to see and for them to monetise. I like a few of BP’s songs, but they have to educate themselves on such social issues, ESPECIALLY with such a large fan base (most of whom are young, let’s not forget). They’re only contributing to the normalisation of such problematic issues.\n",
      "-0.34 Lisa fanboys be doing crazy things\n",
      "0.8807 Why people say lisa save this song  this song is Bop why people say this i love this song its not mash up ddu du ddu du and kill this love this is how you like that duh\n",
      "0.6808 when Lisa rapping, you just like a proud boyfriend.\n",
      "-0.4854 I love them but they literally included ganesha in Lisa's part (1:21) and I feel bad now\n",
      "0.3089 Unbiasedly Lisa's part was good the song itself sucks. Its not the girls fault that YG recycled a 2012 song.\n",
      "0.0 My lalisa\n",
      "-0.1796 Lisa is the only person in the world who can pull off the weirdest clothes so well...dont even try to argue with me on this.\n",
      "0.4572 lisa looking so cool\n",
      "0.0 1 day : 100millions views!!!!!!\n",
      "Omg \n",
      "Me :trying to learn Lisa s rap\n",
      "0.6369 Love you Lisa\n",
      "0.9565 Hellooooooo Panda here to support Blackpink! ❤️ Congratulations for 100 million 🎊\n",
      "Have BLINK heard Lisa say dum dum dum dum dum durum?? My idol(Apink) have a song call dumhdurum, can blink support them? Let's support each other thank you🙏🏻\n",
      "0.2732 Lisa Manoban nailed it!!! 😭♥️\n",
      "0.0 There is a lord ganesha murti on the ground whereas Lisa was beside him sitting on a throne. This was very disrespectful 1:20 down on the left\n",
      "0.0 Finally, Lisa's bangs have started moving again\n",
      "0.8979 I love Lisa Queen as always they are all queens I love them blackpink how you like that\n",
      "0.4404 the rap of lisa is the best part\n",
      "-0.34 Lisa is on fire\n",
      "-0.8225 Did anyone see that when Lisa starts raping the goat next to it got scared aaahahahahaha\n",
      "0.9595 ❤️❤️❤️❤️🔥🔥I love you BLACKPINK and LISA🌹\n",
      "0.7559 Hi, I’m not an official blink, but I really enjoy their music. This song is awesome and I got it stuck in my head. There is just one thing I’m worried about. Is Lisa continuously dying her hair? Cause even though she looks awesome, all those different colors in a small amount of time can’t really be good for anyone’s hair.\n",
      "0.6369 Lisa you are my idol💘\n",
      "0.0 LALISA CLEOPATRA MANOBAN \n",
      "\n",
      "\n",
      "Beautyfull name yash QUEEN\n",
      "0.0 Lisa is the new cardi b\n",
      "0.0 I don't even know how Lisa pull this pink hair up.\n",
      "0.8555 I waited for this song and this clip for a very long time, someone also put laikos under the vidos ! I love you Lisa💛\n",
      "0.8798 omg Lisa is so beautiful lmao\n",
      "-0.5719 im listening without using my earphone. then, due to unsatisfied, im using earphone and listen more than 10 times duh. im obsess with lisa's rap. so dope!!!\n",
      "0.0 Lisa rocking that cleopatra look\n",
      "0.0772 YG: How many wigs d'you want?\n",
      "Lalisa: Yuh!    (Ariana Style)\n",
      "0.9776 Lisa like sexy🤩😍😘❤🖤💗\n",
      "0.0 *Can we Aprecciate Lisa rap*\n",
      "-0.296 why no one is talking abt lisa's rap?\n",
      "0.9371 The comeback was awesome as expected BUT...1:20...I hope you know what you did...you placed LORD GANESHA AT THE FLOOR like every other aesthetic while lisa unnie is on the throne with her SHOES rising higher than Ganesha ji's crown..\n",
      "PLEASE UNDERSTAND HE IS OUR DIETY WE WORSHIP HIM🙏\n",
      "0.4939 Lisa saves my expectation\n",
      "0.0865 Ganesha is their God as well. When she put Ganesha in her mv, it was representing Thai Buddhists religion not Hindus. So we (Indians) have no right to speak on someone else's religion. God cannot be patented. Lisa does need Indians permissions to include her god in mvs. If an indiand singer can do that so Lisa has every right too. God are kept at floor even in Indian (and even worst situation during Ganesha Chaturthi) and the camera angle was high so it looked lower than it was. P. S. We didnt see whether it was placed at the floor or at something. If someone feels she is treating herself above God then it's the negative thinking. She is just proudly showing us her religion. There is no way she was mocking her own God and even if there is something, it is related to Thai Buddhists not Hindu. This is for those Indians who are dragging Lisa.\n",
      "0.5766 L\n",
      "Li\n",
      "Lis\n",
      "Lisa \n",
      "THE QUEEN\n",
      "-0.7351 LISA YOU KILLD IT🔥🔥🔥\n",
      "0.0 Rapper Lisa\n",
      "0.8402 That ''uh''of lisa is soooo 😍😍😍\n",
      "0.3703 lisa looks like cleopatra with the black hairstyle 😶💖💕\n",
      "0.8658 Lisa looks like cardi b❤😍\n",
      "0.0 i’m living for Lisa in a wig\n",
      "0.7506 Barabingbarabongbong\n",
      "                                        -Lisa💖\n",
      "0.6369 I love Lisa\n",
      "0.8201 This comeback is similar with idol bts (not a ship), but can u see the hanbok that they wear in the dance break and the lisa 's rap part is like pretty similar in my opinion\n",
      "0.6369 LISAS RAP SCENE I LOVE THAT ALADDIN VIBES\n",
      "-0.2983 The song is a banger... but I think this is my least fav musicvideo. The song feels very feisty but besides Lisa their facial expressions were mostly too cute in my opinion... so it didnt quite fit.\n",
      "0.9226 I really like when Lisa Rap, she is so cool 😎❤\n",
      "0.5095 Lisa so cute\n",
      "-0.5106 YG how will u feel if we Hindus use ur Jesus nd disrespect ur religion? Nd that dumbass Lisa didn't even say anything every thai knows ganesha that statue is behind her nd she didn't even say anything ,be wise while putting things on set as they are the biggest girlband rn\n",
      "0.0 lisaaaa loveee\n",
      "-0.6908 Lisa's past is killing mee\n",
      "0.0 lisa celine muse\n",
      "0.0 Lisa slay it!!!!\n",
      "0.6808 Tbh the problem in this M/V is that they are using ganesha (muslims-hindu god) in lisa's part which is very dissapointing for me they shouldn't use ganesha as a prop in the M/V lmfao 1:20 you can clearly see ganesha behind\n",
      "0.6369 Love Lisa\n",
      "-0.4939 I saw some commented this song was trash, and wrote some hateful comment.\n",
      "\n",
      "\n",
      "' Look at you, now look at me ' - Lisa\n",
      "0.8122 I really love Lisas short hair, it looks good on her\n",
      "0.3612 Lisa is look like Cleopatra\n",
      "0.6369 I Love you Lisa!!!!!!!!!!!!!!!!\n",
      "0.0 Lisa's pink hair tho- （-＾〇＾-）\n",
      "0.0 loooooovvvvveeeee you lisaaaaaaaa\n",
      "0.4404 Lalisa ..best rapper bruhhhhhh\n",
      "0.0 And later Lisa Rhee will already post her cover\n",
      "0.8555 Love lisa 3000 ❤️\n",
      "0.0 Lisa Cleopatra Egytian Goddess Vibe\n",
      "0.0 Lisa's rap was sooo lit..\n",
      "-0.5423 the way Lisa DESTROYED her old manager in her rap literal chills\n",
      "0.0 LISA'S HERA OF COURSE\n",
      "0.8555 i love lisa.i love b/p\n",
      "-0.6908 Lisa you are fire 🔥😵⚡\n",
      "0.91 look at you now look at me damn lisa mah heart💓\n",
      "0.0 Yow Lisa Rhee we're waiting hahahaha\n",
      "0.0 lisa's charisma is beyond a kpop idol\n",
      "0.9001 OMG RAP QUEEN LISA!!!!!!!😍😍😍😍\n",
      "-0.6908 Lisa killed her rap part :-)\n",
      "0.0 LISA RAP IS BOOMBAYAH ERA\n",
      "0.9538 dear Lisa, if you read this i just wanna tell you how amazing and great you are in this cb. despite of getting least line and screentime, you still doing your BEST at the rap part! i might say it's the highlight of this song thank you luv!!!\n",
      "-0.7269 #RESPECTLISA STOP WITH THE BULLYING\n",
      "-0.7269 #RESPECTLISA STOP WITH THE BULLYING!\n",
      "-0.4404 LISA HAS A SLIVER TOOTH..... anybody else freaking oUttttt\n",
      "0.0 #RESPECTLISA\n",
      "0.6361 Lisa is very beautiful Mzhlhhhhhhh\n",
      "-0.5574 finally they removed it so now can you please leave Lisa alone she doesn't deserve this massive hate she's receiving\n",
      "0.9081 I love Lisa 😍💙\n",
      "0.7717 I'm new and I like Lisa alot Can I be blink? (purple heart)\n",
      "0.0 Is it just me or does the last few lines of Lisa's rap starting from 1:18 sound similar to Lisa's last few lines of her rap in Kick It??!!!!\n",
      "0.0 Lisa's rap, ughhhhh\n",
      "0.0 At 1:12 when it was Lisa's part I remind me of cardi b for some reason ._.\n",
      "0.0 YGE has removed the statue from LISA part that considered disrespectful towards Hinduism.\n",
      "0.7823 Guys . Did u notice on lisa parts ? That the indian statue. It's already gone\n",
      " I'm so glad yge listened to that and take action . \n",
      "\n",
      "Now they dont have to hate lisa ..\n",
      "-0.7393 YG edited the video right??? Ganesha was removed on Lisa's rap part.\n",
      "\n",
      "Just remember haters!! Dont hate blackpink for this mistake. Hate the producers instead specially YG. Hehe\n",
      "0.6369 Lisa i love you\n",
      "0.0 Lisa Is My Live\n",
      "-0.4767 Guys! Watch the Lalisa (A documentary video) you might cry!\n",
      "0.2766 lisa's smile is so cute wth\n",
      "-0.3252 Lisa voice coure not nice\n",
      "0.3612 lisa is rap queen who agree\n",
      "0.9674 ❤❤❤❤😍 Jenni lisa\n",
      "0.4939 can someone tell me how it is that lisa gets prettier every day?\n",
      "0.2382 the song was good but why was lisa doing culture appropriation???\n",
      "0.0 Lisa Queen\n",
      "0.8997 Why is Lisa so beautiful...why is blackpink so beautiful\n",
      "0.4404 Lisa is the best rapper 🥺\n",
      "0.0 Lisa is literally a skeleton🤮🤢\n",
      "0.0 Wowww Lisa I lou you\n",
      "0.0 now i walk around my house saying \"look at you now look at me\" and then lisa's rap\n",
      "0.6369 've got egyptian vibes in lisa's part.  Love it huhuu\n",
      "0.6249 Jisso-Blackpink in you ar-\n",
      "Lisa-Balckpink in your area😯\n",
      "Yg-😎\n",
      "Blink-💔\n",
      "-0.34 Lisa- I am right back👑🔥🌟\n",
      "0.128 Lisa verse is crazy good! Song is just aight tho.\n",
      "0.4215 Lisa ❣️- look at you and now look at me🔥lit\n",
      "0.3612 anyone think that lisa coming down that market street rapping looks like that descendants 2 scene w harry hook\n",
      "-0.296 Why is no one talking about lisa's bangs?? They actually moved!!!\n",
      "0.0 Black short hair Lisa should be a religion\n",
      "0.2342 YG APOLOGIZE PLEASE AND LISA YOU KNW ABOUT LORD GANESHA SINCE LORD GANESH IS HIGH WORSHIP THERE YOU STILL DID THAT I HATE YOU\n",
      "0.0 lisa’s body= |\n",
      "0.5574 Me: washing dishes and playing this bop\n",
      "*My mom passing by\n",
      "Mom: did they release an album already????!!! \n",
      "Me: nope, just a single.\n",
      "Mom: ok, was waiting for Lisa.\n",
      "(*Shooked in Cleopatratic eyes) She's been talking about Lisa a lot lately. Hahahahahah!\n",
      "0.2732 Lisa's glove is better than Thanos glove.\n",
      "0.0 YG! LET LISA RAP IN THAI LANGUAGE!!!!\n",
      "0.4404 Lisa's facial expressions are jjang! the best modern day Cleopatra.\n",
      "0.4588 Stylist: how many hairstyles do you want in this video?\n",
      "Lisa: *Yes*\n",
      "-0.5106 Lisa is ugly\n",
      "0.0 Cardi B and Katy Perry turns out to be LISA\n",
      "0.0 Lisa pink hair ♡♡♡♡♡\n",
      "-0.5635 Stop giving Lisa hate, it is NOT her FAULT that the statue was on the ground and her wearing shoes. The stylist didn’t even tell her to take off her shoes or anything\n",
      "0.0 Lisa queen\n",
      "0.0 0:58 lisa goo girl\n",
      "0.6369 I love the Lisa part\n",
      "0.5777 Lisa look so good with anything\n",
      "0.2732 \"LISA IS BETTER THAN DEBUT SOLO\"\n",
      "0.0 Are ya’ll armies now hapoy?Yg edited lisa’s pary\n",
      "0.0 Lisa have new hair\n",
      "0.3612 lisa be looking like bruno from jojo\n",
      "-0.1226 So Lisa left and let Cardi B replace her or what\n",
      "0.0258 Cool. They have edited the video, that figure is no longer found on Lisa's rap part.\n",
      "0.0 Is it me or is Lisa holding that apple and saying that line talking about TWICE???? 1:22 \"Plain Jane get Hijacked\"\n",
      "0.6124 Lisa looks gorgeous\n",
      "0.9217 I love you Lisaa😍😍😍\n",
      "0.5859 amazing lisa\n",
      "-0.0772 They call it how you like that\n",
      "\n",
      "I call it Lisa roasting haters\n",
      "\n",
      "\n",
      "\n",
      "\n",
      "I made a cov3r of this song\n",
      "Checkit\n",
      "0.6369 I love whe lisa run for say : BLACKPINK IN YOUR AREA!\n",
      "-0.8225 G Dragon X Lisa 🔥🔥🔥🔥\n",
      "0.7283 Lisa is so gorgeous\n",
      "0.0 Trying learn Lisa's rap verse\n",
      "-0.2023 I feel bad for Lisa we’re is her special part?\n",
      "0.5095 Lisa so cute 🥺\n",
      "0.5023 I don't know why, but I like so much that thing on lisa's tooth.\n",
      "0.4404 Lisa is the best\n",
      "0.6369 I love Lisa\n",
      "0.9837 1:20 *Blackpink:* How You Like That!\n",
      "*People with common sense:* No... we don't like that. 🧐\n",
      "If I'm not wrong, that's disrespecting the religion Hinduism. There's a statue of Ganesha, elephant-headed god of beginnings and influential to business owners in general) on the bottom left corner, and I'm pretty sure it's absolutely not okay to place such an important god statue _on the ground_ . \n",
      "Also, you can also see Lisa is _wearing shoes_ and... pretty sure you also can't do that in front of Ganesha as it's, again, disrespectful. \n",
      "I'm not sure why no one is talking about this as if other singers' did this, there would be a ton of backslash and news and all of that. I feel like some Blinks are just forcing themselves to listen to a song that isn't really a bop due to:\n",
      "1. Disrespectful to Hinduism so don't be ignorant.\n",
      "2. It consists the same chords like all of their recent songs (their old songs had some variety, which was nice). \n",
      "So... yes please educate yourselves people. 🙂\n",
      "-0.34 QUEEN LISA ON FIRE!\n",
      "0.6369 I love Lisa's new tooth 1:03\n",
      "0.0 Lisa to the antis who also watched when this came out:\n",
      "\n",
      "Look at you now look at me\n",
      "0.0 Can't take my eyes off of LISA\n",
      "0.6369 Lisa love you so much\n",
      "0.9666 Lisa rap🖤🖤🖤🖤😘\n",
      "-0.2755 Doesn't Lisa look like Cleopatra when she was rapping?! Even the music too\n",
      "0.0 Something change here when Lisa Starting To Rap\n",
      "\n",
      "Do you know it?\n",
      "0.9442 ◆Music◆Blackpink in your area◆How you like that◆Lisa's Rap◆Ddu du ddu du◆Songs end◆\n",
      "🤣😂🤣😂🤣\n",
      "\n",
      "Sorry donot call me a hater please\n",
      "0.0 Lisa givin me that Cleopatra vibe, kween!\n",
      "-0.296 No one:\n",
      "\n",
      "\n",
      "Not even me :\n",
      "\n",
      "\n",
      "\n",
      "\n",
      "\n",
      "\n",
      "\n",
      "Lisa: BaDa Bim BadA BuM\n",
      "0.0 This is lisa era period.\n",
      "0.4404 that's good!!\n",
      "lalisa\n",
      "0.4588 Lisa rapping way more faster than my internet connection ☺️\n",
      "0.5994 Owh my goot lisa its sou beautiful😮😮😮\n",
      "0.4404 Good thing yg edited out Ganesha in Lisa’s scene.\n",
      "-0.7172 I think we seriously deserve at least an apology for the disrespect they showed to Ganesha. I get it that they wanted to remove obstacles or promote hinduism but keep him ON THE FLOOR ?! YOU CAN DO BETTER THAN THAT OKAY ? AND LISA WAS WEARING SHOES IN HIS FACE!! i'm am no toxic fan but let me tell you this what if they broke a jesus statue? or disrespected any other religion? i don't think that you can forgive them. i am an aethiest but i respect my culture and i wont stop until i get that apology, not by jyp but by the members themselves. help me. #bpapologise \n",
      "and if you dont like this stand up im telling you, you are a disgrace to your tradition and culture.\n",
      "\n",
      "and it is not fair how they edited him out, and didnt say sorry. HOW RUDE !\n",
      "0.0 Did anyone notice that they removed the statue from Lisa's rap part..\n",
      "0.3291 I am not HINDU but blinks did u notice there is no lord ganesh STATUE in lisa's solo SCENE... finally yg showed respect to HINDU people\n",
      "0.5674 Lisa: so so so cool\n",
      "0.6369 I love the Lisa part\n",
      "0.5777 Lisa look so good with anything\n",
      "0.2732 \"LISA IS BETTER THAN DEBUT SOLO\"\n",
      "0.0 LISA WITH SHORT HAIR AAAAAAAAAAAA\n",
      "-0.6908 Lisa's Rap Killed Me !!!\n",
      "0.0 *LISA* *RAP!!!!*  *Looking* *me!!*\n",
      "0.9403 Wow Lisa Yor hire it's like mine ❤❤\n",
      "-0.6705 UGH! LISA MANOBAN'S OVERFLOWING SWAAAAAAG! DAMN GIRL!!! 🤯🤯🤯\n",
      "0.6369 I love lisa\n",
      "0.2766 lisa's smile is so cute wth\n",
      "-0.3252 Lisa voice coure not nice\n",
      "0.3612 lisa is rap queen who agree\n"
     ]
    }
   ],
   "source": [
    "for sentiment, comment in zip(cleaned_lisa_sentiment, lisa_english.tolist()):\n",
    "    print(sentiment, comment)"
   ]
  },
  {
   "cell_type": "markdown",
   "metadata": {},
   "source": [
    "I think the vader sentiment library is understanding the \"kill\", \"fire\", and \"🔥 😵 ⚡\" words and emojis as negative rather than positive. However, there are some commentary that are correctly identified as negative, such as, \"IS LISA'S A MOCK FOR INDIANS 😡😡😡😡😡😡😡😡😡😡😡😡😡😡😡😡😡😡😡😡😡😡😡😡😡😡\", \n",
    "\"Just remember haters!! Dont hate blackpink for this mistake. Hate the producers instead specially YG. Hehe\", and \n",
    "\"I think we seriously deserve at least an apology for the disrespect they showed to Ganesha. I get it that they wanted to remove obstacles or promote hinduism but keep him ON THE FLOOR ?! YOU CAN DO BETTER THAN THAT OKAY ? AND LISA WAS WEARING SHOES IN HIS FACE!! i'm am no toxic fan but let me tell you this what if they broke a jesus statue? or disrespected any other religion? i don't think that you can forgive them. i am an aethiest but i respect my culture and i wont stop until i get that apology, not by jyp but by the members themselves. help me. #bpapologise \n",
    "and if you dont like this stand up im telling you, you are a disgrace to your tradition and culture.\n",
    "\n",
    "and it is not fair how they edited him out, and didnt say sorry. HOW RUDE !\"\n"
   ]
  },
  {
   "cell_type": "markdown",
   "metadata": {},
   "source": [
    "# Simple Extractive Text Summarization\n",
    "\n",
    "To generate sentiment for the texts, we went through a standard NLP text preprocessing pipeline. We extracted alphanumeric characters from the original text, but we also kept emojis since our sentiment library is capable of handling them. We then lemmatized the alphanumeric characters, removing inflectional endings to return the base form of the word.\n",
    "\n",
    "To do extractive text summarization, we'll use the fairly simple bag of words technique, and then tf-idf.\n",
    "\n",
    "We'll divide each collection of comments into three sentiments, negative, neutral, and positive. \n",
    "\n",
    "Using sets from: https://towardsdatascience.com/natural-language-processing-feature-engineering-using-tf-idf-e8b9d00e7e76"
   ]
  },
  {
   "cell_type": "code",
   "execution_count": 1153,
   "metadata": {},
   "outputs": [],
   "source": [
    "def split_pos_neg_neu(comments, sentiments):\n",
    "    positive = [[index, comment_sentiment[0]] for index, comment_sentiment in \\\n",
    "               enumerate(zip(comments, sentiments)) \\\n",
    "               if comment_sentiment[1] >= 0.05]\n",
    "    negative = [[index, comment_sentiment[0]] for index, comment_sentiment in \\\n",
    "               enumerate(zip(comments, sentiments)) \\\n",
    "               if comment_sentiment[1] <= -0.05]\n",
    "    neutral = [[index, comment_sentiment[0]] for index, comment_sentiment in \\\n",
    "               enumerate(zip(comments, sentiments)) \\\n",
    "               if -.05 < comment_sentiment[1] < 0.05]\n",
    "    return positive, negative, neutral\n",
    "\n",
    "lisa_pos, lisa_neg, lisa_neu = split_pos_neg_neu(cleaned_lisa_english, \n",
    "                                                               cleaned_lisa_sentiment)\n",
    "jisoo_pos, jisoo_neg, jisoo_neu = split_pos_neg_neu(cleaned_jisoo_english, \n",
    "                                                    cleaned_jisoo_sentiment)\n",
    "rose_pos, rose_neg, rose_neu = split_pos_neg_neu(cleaned_rose_english, \n",
    "                                                 cleaned_rose_sentiment)\n",
    "jennie_pos, jennie_neg, jennie_neu = split_pos_neg_neu(cleaned_jennie_english, \n",
    "                                                       cleaned_jennie_sentiment)\n",
    "\n"
   ]
  },
  {
   "cell_type": "code",
   "execution_count": 1154,
   "metadata": {
    "scrolled": false
   },
   "outputs": [
    {
     "name": "stdout",
     "output_type": "stream",
     "text": [
      "203 63 109\n",
      "80 18 35\n",
      "58 5 42\n",
      "114 23 70\n"
     ]
    }
   ],
   "source": [
    "\n",
    "print(len(lisa_pos), len(lisa_neg), len(lisa_neu))\n",
    "print(len(jisoo_pos), len(jisoo_neg), len(jisoo_neu))\n",
    "print(len(rose_pos), len(rose_neg), len(rose_neu))\n",
    "print(len(jennie_pos), len(jennie_neg), len(jennie_neu))"
   ]
  },
  {
   "cell_type": "markdown",
   "metadata": {},
   "source": [
    "It would make sense that the majority of comments would be positive, and sure enough, positive comments account for just a little over half of all comments specific to Lisa. To retrieve the original comment, we can index into our unprocessed, original comments."
   ]
  },
  {
   "cell_type": "code",
   "execution_count": 1155,
   "metadata": {
    "scrolled": true
   },
   "outputs": [
    {
     "name": "stdout",
     "output_type": "stream",
     "text": [
      "Is it just me or does the last few lines of Lisa's rap starting from 1:18 sound similar to Lisa's last few lines of her rap in Kick It??!!!!\n",
      "I love lisa\n",
      "Lisa is ugly\n"
     ]
    }
   ],
   "source": [
    "print(lisa_english.tolist()[lisa_neu[80][0]])\n",
    "print(lisa_english.tolist()[lisa_pos[200][0]])\n",
    "print(lisa_english.tolist()[lisa_neg[50][0]])"
   ]
  },
  {
   "cell_type": "code",
   "execution_count": 1156,
   "metadata": {},
   "outputs": [],
   "source": [
    "# now mash all the words up into one list\n",
    "\n",
    "stopwords = [word for word in list(STOP_WORDS) if 'no' not in word]\n",
    "stopwords.extend(['ur', 'u'])\n",
    "\n",
    "def get_freqs(**kwargs):\n",
    "    \"\"\"\n",
    "    Given pos, neg, and neu splits, return freqs of each and total freq\n",
    "    \"\"\"\n",
    "    positive_words = [word.lower() for index_comment in kwargs['pos'] \\\n",
    "                      for word in index_comment[1].split() \\\n",
    "                      if word not in stopwords]\n",
    "    freq_positive_words = Counter(positive_words)\n",
    "    negative_words = [word.lower() for index_comment in kwargs['neg'] \\\n",
    "                      for word in index_comment[1].split() \\\n",
    "                      if word not in stopwords]\n",
    "    freq_negative_words = Counter(negative_words)\n",
    "    neutral_words = [word.lower() for index_comment in kwargs['neu'] \\\n",
    "                     for word in index_comment[1].split() \\\n",
    "                     if word not in stopwords]\n",
    "    freq_neutral_words = Counter(neutral_words)\n",
    "\n",
    "    return freq_positive_words, freq_negative_words, freq_neutral_words"
   ]
  },
  {
   "cell_type": "markdown",
   "metadata": {},
   "source": [
    "# Normalize by largest frequency"
   ]
  },
  {
   "cell_type": "code",
   "execution_count": 1157,
   "metadata": {},
   "outputs": [],
   "source": [
    "# normalize term frequency by largest frequency per document\n",
    "# relative frequency\n",
    "def normalize_word_count(words):\n",
    "    max_freq = max(words.values())\n",
    "    return {key:value/max_freq for (key, value) in words.items()}\n",
    "\n",
    "# freq_pos = pd.DataFrame.from_dict(normalize_word_count(freq_positive_words_no_sw, max_pos).items())\n",
    "freq_pos = normalize_word_count(freq_positive_words_no_sw)\n",
    "freq_neg = normalize_word_count(freq_negative_words_no_sw)\n",
    "freq_neu = normalize_word_count(freq_neutral_words_no_sw)\n",
    "\n"
   ]
  },
  {
   "cell_type": "markdown",
   "metadata": {},
   "source": [
    "# Calculate IDF\n",
    "Which is the log of the number of documents divided by the number of documents that contain the word"
   ]
  },
  {
   "cell_type": "code",
   "execution_count": 1158,
   "metadata": {},
   "outputs": [],
   "source": [
    "# calculate idf\n",
    "def computeIDF(*args):\n",
    "    \"\"\"\n",
    "    Given parameters of type dict, calculate idf\n",
    "    \"\"\"\n",
    "    import math\n",
    "    num_docs = 0\n",
    "    idfs = {}\n",
    "    for freq_dict in args:\n",
    "        for word, freq in freq_dict.items():\n",
    "            if idfs.get(word):\n",
    "                idfs[word] += 1\n",
    "            else:\n",
    "                idfs[word] = 1\n",
    "        num_docs += 1\n",
    "    # normalize\n",
    "    for word, doc_freq in idfs.items():\n",
    "        idfs[word] = math.log(num_docs / doc_freq)\n",
    "    return idfs\n",
    "\n",
    "idf = computeIDF(freq_pos, freq_neg, freq_neu)"
   ]
  },
  {
   "cell_type": "code",
   "execution_count": 1159,
   "metadata": {},
   "outputs": [],
   "source": [
    "# now calculate tf-idf for all words\n",
    "\n",
    "def compute_tfidf(freqs, idfs):\n",
    "    return {word:freq * idfs[word] for word, freq in freqs.items()}\n"
   ]
  },
  {
   "cell_type": "code",
   "execution_count": 1160,
   "metadata": {},
   "outputs": [],
   "source": [
    "tfidf_pos = compute_tfidf(freq_pos, idf)\n",
    "tfidf_neg = compute_tfidf(freq_neg, idf)\n",
    "tfidf_neu = compute_tfidf(freq_neu, idf)"
   ]
  },
  {
   "cell_type": "code",
   "execution_count": 1202,
   "metadata": {},
   "outputs": [],
   "source": [
    "# Put it altogether\n",
    "\n",
    "def get_tfidf(comments, sentiments):\n",
    "    pos, neg, neu = split_pos_neg_neu(comments, sentiments)\n",
    "\n",
    "    freq_pos, freq_neg, freq_neu = get_freqs(pos=pos,\n",
    "                                             neg=neg,\n",
    "                                             neu=neu)\n",
    "    \n",
    "    freq_pos = normalize_word_count(freq_pos)\n",
    "    freq_neg = normalize_word_count(freq_neg)\n",
    "    freq_neu = normalize_word_count(freq_neu)\n",
    "    \n",
    "    idf = computeIDF(freq_pos, freq_neg, freq_neu)\n",
    "    \n",
    "    tfidf_pos = compute_tfidf(freq_pos, idf)\n",
    "    tfidf_neg = compute_tfidf(freq_neg, idf)\n",
    "    tfidf_neu = compute_tfidf(freq_neu, idf)\n",
    "    \n",
    "    return tfidf_pos, tfidf_neg, tfidf_neu, pos, neg, neu\n"
   ]
  },
  {
   "cell_type": "code",
   "execution_count": 1203,
   "metadata": {},
   "outputs": [],
   "source": [
    "lisa_pos, lisa_neg, lisa_neu, lisa_pc, lisa_nc, lisa_neuc = get_tfidf(cleaned_lisa_english, cleaned_lisa_sentiment)\n"
   ]
  },
  {
   "cell_type": "markdown",
   "metadata": {},
   "source": [
    "# Using TF-IDF\n",
    "\n",
    "Now that we've obtained our tf-idf scores for each word, let's measure the sentence length"
   ]
  },
  {
   "cell_type": "code",
   "execution_count": 1319,
   "metadata": {},
   "outputs": [],
   "source": [
    "# now that we've normalized word frequency, let's measure the sentence strength\n",
    "\n",
    "def get_sent_strength_of_doc(doc, tfidf):\n",
    "    from collections import defaultdict\n",
    "    sent_strength = defaultdict(float)\n",
    "    index = 0\n",
    "    # for each sentence\n",
    "    for sent in doc:\n",
    "        # handle empty strings\n",
    "        sent_length = len(sent) if len(sent) > 0 else 1\n",
    "        \n",
    "        for word in sent: \n",
    "            if word in tfidf.keys(): \n",
    "                    sent_strength[sent]+= tfidf[word]\n",
    "        sent_strength[sent] /= sent_length\n",
    "        index += 1\n",
    "    return sent_strength\n",
    "\n",
    "def get_sentences(comments):\n",
    "    return [sentence \\\n",
    "            for index_comment in comments \\\n",
    "            for sentence in re.split(r'\\s{2,}', index_comment[1])]\n",
    "\n",
    "def get_comments(comments):\n",
    "    return [index_comment[1] \\\n",
    "            for index_comment in comments]\n"
   ]
  },
  {
   "cell_type": "code",
   "execution_count": 1330,
   "metadata": {},
   "outputs": [],
   "source": [
    "# jisoo_pos_comments = get_sentences(jisoo_pc)\n",
    "lisa_neg_comments = get_comments(lisa_nc)"
   ]
  },
  {
   "cell_type": "code",
   "execution_count": 1331,
   "metadata": {},
   "outputs": [],
   "source": [
    "from heapq import nlargest"
   ]
  },
  {
   "cell_type": "code",
   "execution_count": 1332,
   "metadata": {},
   "outputs": [],
   "source": [
    "sent_strength = get_sent_strength_of_doc(lisa_neg_comments, lisa_neg)\n",
    "summarized_sentences = nlargest(10, sent_strength, key=sent_strength.get)"
   ]
  },
  {
   "cell_type": "code",
   "execution_count": 1333,
   "metadata": {
    "scrolled": true
   },
   "outputs": [
    {
     "data": {
      "text/plain": [
       "['be LISA S a mock for INDIANS 😡 😡 😡 😡 😡 😡 😡 😡 😡 😡 😡 😡 😡 😡 😡 😡 😡 😡 😡 😡 😡 😡 😡 😡 😡 😡',\n",
       " 'G Dragon X Lisa 🔥 🔥 🔥 🔥',\n",
       " 'LISA you KILLD IT 🔥 🔥 🔥',\n",
       " 'Lisa be swag sooooooo hard 🌟 🌟 🌟',\n",
       " 'Cleolisa 🔥',\n",
       " 'Lisa I be right back 👑 🔥 🌟',\n",
       " 'Lisa you be fire 🔥 😵 ⚡',\n",
       " 'somebody notice the ganesh statue in near of the lisa in the mv iam realy sad of that 😞 😞 😞 😞 😠',\n",
       " 'ugh  LISA MANOBAN s OVERFLOWING SWAAAAAAG  damn girl    🤯 🤯 🤯',\n",
       " 'the ganesha case be just rise   why hate on bp   many people be hate on Lisa and Bp 😒 😒  I luv this song 🤩 😍 🤩 😍 🤩']"
      ]
     },
     "execution_count": 1333,
     "metadata": {},
     "output_type": "execute_result"
    }
   ],
   "source": [
    "summarized_sentences"
   ]
  },
  {
   "cell_type": "code",
   "execution_count": 1348,
   "metadata": {},
   "outputs": [
    {
     "data": {
      "text/plain": [
       "{'neg': 0.0, 'neu': 1.0, 'pos': 0.0, 'compound': 0.0}"
      ]
     },
     "execution_count": 1348,
     "metadata": {},
     "output_type": "execute_result"
    }
   ],
   "source": [
    "analyzer.polarity_scores(\"OVERFLOWING SWAAAAAAG\")"
   ]
  },
  {
   "cell_type": "code",
   "execution_count": 1265,
   "metadata": {},
   "outputs": [
    {
     "name": "stdout",
     "output_type": "stream",
     "text": [
      "1\n",
      "2\n",
      "3\n",
      "4\n",
      "5\n",
      "6\n",
      "7\n",
      "8\n",
      "9\n",
      "10\n",
      "11\n",
      "12\n",
      "13\n",
      "14\n",
      "15\n",
      "16\n",
      "17\n",
      "18\n",
      "19\n",
      "20\n",
      "21\n",
      "22\n",
      "23\n",
      "24\n",
      "25\n",
      "26\n",
      "27\n",
      "28\n",
      "29\n",
      "30\n",
      "31\n",
      "32\n",
      "33\n",
      "34\n",
      "35\n",
      "36\n",
      "37\n",
      "38\n",
      "39\n",
      "40\n",
      "41\n",
      "42\n",
      "43\n",
      "44\n",
      "45\n",
      "46\n",
      "47\n",
      "48\n",
      "49\n",
      "50\n",
      "51\n",
      "52\n",
      "53\n",
      "54\n",
      "55\n",
      "56\n",
      "57\n",
      "58\n",
      "59\n",
      "60\n",
      "61\n",
      "62\n",
      "63\n",
      "64\n",
      "65\n",
      "66\n",
      "67\n",
      "68\n",
      "69\n",
      "70\n",
      "71\n",
      "72\n",
      "73\n",
      "74\n",
      "75\n",
      "76\n",
      "77\n",
      "78\n",
      "79\n",
      "80\n",
      "81\n",
      "82\n",
      "83\n",
      "84\n",
      "85\n",
      "86\n",
      "87\n",
      "88\n",
      "89\n",
      "90\n",
      "91\n",
      "92\n",
      "93\n",
      "94\n",
      "95\n",
      "96\n",
      "97\n",
      "98\n",
      "99\n",
      "100\n",
      "101\n",
      "102\n",
      "103\n",
      "104\n",
      "105\n",
      "106\n",
      "107\n",
      "108\n",
      "109\n",
      "110\n",
      "111\n",
      "112\n",
      "113\n",
      "114\n",
      "115\n",
      "116\n",
      "117\n",
      "118\n",
      "119\n",
      "120\n",
      "121\n",
      "122\n",
      "123\n",
      "124\n",
      "125\n",
      "126\n",
      "127\n",
      "128\n",
      "129\n",
      "130\n",
      "131\n",
      "132\n",
      "133\n",
      "134\n",
      "135\n",
      "136\n",
      "137\n",
      "138\n",
      "139\n",
      "140\n",
      "141\n",
      "142\n",
      "143\n",
      "144\n",
      "145\n",
      "146\n",
      "147\n",
      "148\n",
      "149\n",
      "150\n",
      "151\n",
      "152\n",
      "153\n",
      "154\n",
      "155\n",
      "156\n",
      "157\n",
      "158\n",
      "159\n",
      "160\n",
      "161\n",
      "162\n",
      "163\n",
      "164\n",
      "165\n",
      "166\n",
      "167\n",
      "168\n",
      "169\n",
      "170\n",
      "171\n",
      "172\n",
      "173\n",
      "174\n",
      "175\n",
      "176\n",
      "177\n",
      "178\n",
      "179\n",
      "180\n",
      "181\n",
      "182\n",
      "183\n",
      "184\n",
      "185\n",
      "186\n",
      "187\n",
      "188\n",
      "189\n",
      "190\n",
      "191\n",
      "192\n",
      "193\n",
      "194\n",
      "195\n",
      "196\n",
      "197\n",
      "198\n",
      "199\n",
      "200\n",
      "201\n",
      "202\n",
      "203\n",
      "1\n",
      "2\n",
      "3\n",
      "4\n",
      "5\n",
      "6\n",
      "7\n",
      "8\n",
      "9\n",
      "10\n",
      "11\n",
      "12\n",
      "13\n",
      "14\n",
      "15\n",
      "16\n",
      "17\n",
      "18\n",
      "19\n",
      "20\n",
      "21\n",
      "22\n",
      "23\n",
      "24\n",
      "25\n",
      "26\n",
      "27\n",
      "28\n",
      "29\n",
      "30\n",
      "31\n",
      "32\n",
      "33\n",
      "34\n",
      "35\n",
      "36\n",
      "37\n",
      "38\n",
      "39\n",
      "40\n",
      "41\n",
      "42\n",
      "43\n",
      "44\n",
      "45\n",
      "46\n",
      "47\n",
      "48\n",
      "49\n",
      "50\n",
      "51\n",
      "52\n",
      "53\n",
      "54\n",
      "55\n",
      "56\n",
      "57\n",
      "58\n",
      "59\n",
      "60\n",
      "61\n",
      "62\n",
      "63\n"
     ]
    }
   ],
   "source": [
    "lisa_pos_comments = get_sentences(lisa_positive)\n",
    "lisa_neg_comments = get_sentences(lisa_negative)\n",
    "\n",
    "\n",
    "jisoo_pos, jisoo_neg, jisoo_neu, jisoo_pc, jisoo_nc, jisoo_neuc = get_tfidf(cleaned_jisoo_english,\n",
    "                                                                           cleaned_jisoo_sentiment)"
   ]
  }
 ],
 "metadata": {
  "kernelspec": {
   "display_name": "Python 3",
   "language": "python",
   "name": "python3"
  },
  "language_info": {
   "codemirror_mode": {
    "name": "ipython",
    "version": 3
   },
   "file_extension": ".py",
   "mimetype": "text/x-python",
   "name": "python",
   "nbconvert_exporter": "python",
   "pygments_lexer": "ipython3",
   "version": "3.7.6"
  }
 },
 "nbformat": 4,
 "nbformat_minor": 4
}
